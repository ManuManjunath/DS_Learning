{
 "cells": [
  {
   "cell_type": "code",
   "execution_count": 1,
   "id": "8bc788e2-4c84-49d1-bf1d-d309e03dbd49",
   "metadata": {},
   "outputs": [],
   "source": [
    "import pandas as pd\n",
    "from scipy import stats\n",
    "\n",
    "education_districtwise = pd.read_csv(\"../DATA/education_districtwise.csv\")\n",
    "education_districtwise = education_districtwise.dropna()"
   ]
  },
  {
   "cell_type": "raw",
   "id": "c02edba4-b5e0-4c8f-b8eb-1551af2ef093",
   "metadata": {},
   "source": [
    "Imagine that the Department of Education asks you to collect data on mean district literacy rates for two of the nation’s largest states: STATE21 and STATE28. \n",
    "STATE28 has almost 40 districts, and STATE21 has more than 70. Due to limited time and resources, you are only able to survey 20 randomly chosen districts in each state. \n",
    "The department asks you to determine if the difference between the two mean district literacy rates is statistically significant or due to chance. This will help the department decide how to distribute government funding to improve literacy. \n",
    "If there is a statistically-significant difference, the state with the lower literacy rate may receive more funding."
   ]
  },
  {
   "cell_type": "code",
   "execution_count": 2,
   "id": "fcdb1d10-7571-4370-a70c-1616d710bc03",
   "metadata": {},
   "outputs": [],
   "source": [
    "state21 = education_districtwise[education_districtwise['STATNAME'] == \"STATE21\"]\n",
    "state28 = education_districtwise[education_districtwise['STATNAME'] == \"STATE28\"]"
   ]
  },
  {
   "cell_type": "code",
   "execution_count": 3,
   "id": "70d94bc4-93c8-4e02-a2cc-95ebac9ef3f8",
   "metadata": {},
   "outputs": [],
   "source": [
    "# Simulate random sampling\n",
    "\n",
    "sampled_state21 = state21.sample(n=20, replace = True, random_state=13490)\n",
    "sampled_state28 = state28.sample(n=20, replace = True, random_state=39103)"
   ]
  },
  {
   "cell_type": "code",
   "execution_count": 4,
   "id": "49572fce-3e2f-410e-b3ac-cf180a3bc58c",
   "metadata": {},
   "outputs": [
    {
     "name": "stdout",
     "output_type": "stream",
     "text": [
      "70.82900000000001\n",
      "64.60100000000001\n"
     ]
    }
   ],
   "source": [
    "# Calculate the sample means\n",
    "print(sampled_state21['OVERALL_LI'].mean())\n",
    "print(sampled_state28['OVERALL_LI'].mean())"
   ]
  },
  {
   "cell_type": "raw",
   "id": "3e9b2bf2-b8e6-4146-943c-d30d80f464ae",
   "metadata": {},
   "source": [
    "STATE21 has a mean district literacy rate of about 70.8%, while STATE28 has a mean district literacy rate of about 64.6%.\n",
    "Based on your sample data, the observed difference between the mean district literacy rates of STATE21 and STATE28 is 6.2 percentage points.\n",
    "\n",
    "At this point, you might be tempted to conclude that STATE21 has a higher overall literacy rate than STATE28. \n",
    "However, due to sampling variability, this observed difference might simply be due to chance, rather than an actual difference in the corresponding population means. \n",
    "A hypothesis test can help you determine whether or not your results are statistically significant.\n",
    "\n",
    "Conduct a hypothesis test\n",
    "Now that you’ve organized your data and simulated random sampling, you’re ready to conduct your hypothesis test. \n",
    "A two-sample t-test is the standard approach for comparing the means of two independent samples. \n",
    "The steps for conducting a hypothesis test are:\n",
    "* State the null hypothesis and the alternative hypothesis.\n",
    "* Choose a significance level.\n",
    "* Find the p-value.\n",
    "* Reject or fail to reject the null hypothesis."
   ]
  },
  {
   "cell_type": "raw",
   "id": "c11a27eb-465c-443f-939f-b378a5d0cf10",
   "metadata": {},
   "source": [
    "Step 1: State the null hypothesis and the alternative hypothesis\n",
    "The null hypothesis is a statement that is assumed to be true unless there is convincing evidence to the contrary. \n",
    "The alternative hypothesis is a statement that contradicts the null hypothesis and is accepted as true only if there is convincing evidence for it.\n",
    "In a two-sample t-test, the null hypothesis states that there is no difference between the means of your two groups. \n",
    "The alternative hypothesis states the contrary claim: there is a difference between the means of your two groups.\n",
    "\n",
    "Step 2: Choose a significance level\n",
    "The significance level is the threshold at which you will consider a result statistically significant. \n",
    "This is the probability of rejecting the null hypothesis when it is true. The Department of Education asks you to use their standard level of 5%, or 0.05."
   ]
  },
  {
   "cell_type": "raw",
   "id": "79ba306f-6675-4377-865e-4b322151fcdd",
   "metadata": {},
   "source": [
    "Step 3: Find the p-value\n",
    "P-value refers to the probability of observing results as or more extreme than those observed when the null hypothesis is true.\n",
    "\n",
    "Based on your sample data, the difference between the mean district literacy rates of STATE21 and STATE28 is 6.2 percentage points. Your null hypothesis claims that this difference is due to chance. Your p-value is the probability of observing an absolute difference in sample means that is 6.2 or greater if the null hypothesis is true. If the probability of this outcome is very unlikely—in particular, if your p-value is less than your significance level of 5%— then you will reject the null hypothesis."
   ]
  },
  {
   "cell_type": "code",
   "execution_count": 5,
   "id": "e82d7db5-2957-4c6a-8dec-15a433fc31a1",
   "metadata": {},
   "outputs": [
    {
     "data": {
      "text/plain": [
       "TtestResult(statistic=2.8980444277268735, pvalue=0.006421719142765237, df=35.20796133045557)"
      ]
     },
     "execution_count": 5,
     "metadata": {},
     "output_type": "execute_result"
    }
   ],
   "source": [
    "stats.ttest_ind(a=sampled_state21['OVERALL_LI'], b=sampled_state28['OVERALL_LI'], equal_var=False)"
   ]
  },
  {
   "cell_type": "raw",
   "id": "67ec22bf-77e7-44cf-b0ab-43e9eeb72629",
   "metadata": {},
   "source": [
    "p-value is about 0.0064, or 0.64%.\n",
    "\n",
    "This means there is only a 0.64% probability that the absolute difference between the two mean district literacy rates would be 6.2 percentage points or greater if the null hypothesis were true. \n",
    "In other words, it’s highly unlikely that the difference in the two means is due to chance."
   ]
  },
  {
   "cell_type": "raw",
   "id": "0ec65b39-8632-4461-8953-c7d07a1496a3",
   "metadata": {},
   "source": [
    "Step 4: Reject or fail to reject the null hypothesis\n",
    "To draw a conclusion, compare your p-value with the significance level.\n",
    "\n",
    "If the p-value is less than the significance level, you can conclude that there is a statistically significant difference in the mean district literacy rates between STATE21 and STATE28. In other words, you will reject the null hypothesis  𝐻0\n",
    " .\n",
    "If the p-value is greater than the significance level, you can conclude that there is not a statistically significant difference in the mean district literacy rates between STATE21 and STATE28. In other words, you will fail to reject the null hypothesis  𝐻0\n",
    " .\n",
    "Your p-value of 0.0064, or 0.64%, is less than the significance level of 0.05, or 5%. Therefore, you will reject the null hypothesis and conclude that there is a statistically significant difference between the mean district literacy rates of the two states: STATE21 and STATE28."
   ]
  },
  {
   "cell_type": "code",
   "execution_count": null,
   "id": "7e0e4154-2545-4196-8939-a6be84834a60",
   "metadata": {},
   "outputs": [],
   "source": []
  }
 ],
 "metadata": {
  "kernelspec": {
   "display_name": "Python 3 (ipykernel)",
   "language": "python",
   "name": "python3"
  },
  "language_info": {
   "codemirror_mode": {
    "name": "ipython",
    "version": 3
   },
   "file_extension": ".py",
   "mimetype": "text/x-python",
   "name": "python",
   "nbconvert_exporter": "python",
   "pygments_lexer": "ipython3",
   "version": "3.11.5"
  }
 },
 "nbformat": 4,
 "nbformat_minor": 5
}
